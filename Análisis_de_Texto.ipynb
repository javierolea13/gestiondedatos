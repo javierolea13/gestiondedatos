{
  "cells": [
    {
      "cell_type": "code",
      "execution_count": null,
      "metadata": {
        "colab": {
          "base_uri": "https://localhost:8080/"
        },
        "id": "YOXD9Z3Uz7Zx",
        "outputId": "a6e60578-e538-4246-f208-6b09f97c89dd"
      },
      "outputs": [
        {
          "name": "stderr",
          "output_type": "stream",
          "text": [
            "[nltk_data] Downloading package punkt to /root/nltk_data...\n",
            "[nltk_data]   Package punkt is already up-to-date!\n",
            "[nltk_data] Downloading package stopwords to /root/nltk_data...\n",
            "[nltk_data]   Package stopwords is already up-to-date!\n"
          ]
        },
        {
          "data": {
            "text/plain": [
              "True"
            ]
          },
          "execution_count": 2,
          "metadata": {},
          "output_type": "execute_result"
        }
      ],
      "source": [
        "import pandas as pd\n",
        "import nltk\n",
        "from nltk.corpus import stopwords\n",
        "from nltk.tokenize import word_tokenize\n",
        "from gensim.models.doc2vec import TaggedDocument\n",
        "import string\n",
        "\n",
        "nltk.download('punkt')\n",
        "nltk.download('stopwords')"
      ]
    },
    {
      "cell_type": "code",
      "execution_count": null,
      "metadata": {
        "id": "KcIQzUP30DES"
      },
      "outputs": [],
      "source": [
        "data = pd.read_csv('newsCorpora-trimmed.csv')\n"
      ]
    },
    {
      "cell_type": "code",
      "execution_count": null,
      "metadata": {
        "id": "DN5yg3bl0DVd"
      },
      "outputs": [],
      "source": [
        "data.columns = ['category', 'text']\n",
        "\n",
        "# Filtrar solo las categorías de interés\n",
        "categories = ['b', 't', 'e', 'm']  # Business, Science and Technology, Entertainment, Health\n",
        "data = data[data['category'].isin(categories)]"
      ]
    },
    {
      "cell_type": "code",
      "execution_count": null,
      "metadata": {
        "id": "42ersEX60DY8"
      },
      "outputs": [],
      "source": [
        "# Preprocesamiento de texto\n",
        "stop_words = set(stopwords.words('english'))\n",
        "def preprocess_text(text):\n",
        "    tokens = word_tokenize(text.lower())\n",
        "    tokens = [word for word in tokens if word.isalpha() and word not in stop_words]\n",
        "    return tokens\n",
        "\n",
        "data['tokens'] = data['text'].apply(preprocess_text)\n"
      ]
    },
    {
      "cell_type": "code",
      "execution_count": null,
      "metadata": {
        "id": "o90FanNE0DdR"
      },
      "outputs": [],
      "source": [
        "# Crear documentos etiquetados\n",
        "tagged_data = [TaggedDocument(words=row['tokens'], tags=[row['category']]) for index, row in data.iterrows()]"
      ]
    },
    {
      "cell_type": "code",
      "execution_count": null,
      "metadata": {
        "id": "xGhGjLed1IXi"
      },
      "outputs": [],
      "source": [
        "from gensim.models import Doc2Vec\n",
        "\n",
        "print(tagged_data)\n",
        "\n"
      ]
    },
    {
      "cell_type": "code",
      "execution_count": null,
      "metadata": {
        "id": "n7K9QMIn4kLV"
      },
      "outputs": [],
      "source": [
        "# Entrenar el modelo Doc2Vec\n",
        "model = Doc2Vec(tagged_data, vector_size=100, window=5, min_count=5, workers=4, epochs=20)\n",
        "\n",
        "# Guardar el modelo\n",
        "model.save(\"doc2vec_model\")"
      ]
    },
    {
      "cell_type": "code",
      "execution_count": null,
      "metadata": {
        "colab": {
          "background_save": true
        },
        "id": "EqdLXnBj1IcM"
      },
      "outputs": [],
      "source": [
        "from sklearn.model_selection import train_test_split\n",
        "from sklearn.svm import SVC\n",
        "from sklearn.metrics import accuracy_score\n",
        "\n",
        "# Convertir los documentos etiquetados a vectores\n",
        "def vectorize_doc(doc):\n",
        "    return model.infer_vector(doc.words)\n",
        "\n",
        "data['vector'] = data['tokens'].apply(lambda x: vectorize_doc(TaggedDocument(x, [0])))\n"
      ]
    },
    {
      "cell_type": "code",
      "execution_count": null,
      "metadata": {
        "id": "ueUb-KEc1IgZ"
      },
      "outputs": [],
      "source": [
        "# Crear el conjunto de entrenamiento y prueba\n",
        "X = list(data['vector'])\n",
        "y = data['category']\n",
        "X_train, X_test, y_train, y_test = train_test_split(X, y, test_size=0.2, random_state=42)\n"
      ]
    },
    {
      "cell_type": "code",
      "execution_count": null,
      "metadata": {
        "id": "tP_nNp5D1Ilg"
      },
      "outputs": [],
      "source": [
        "# Entrenar el clasificador SVM\n",
        "classifier = SVC(kernel='linear')\n",
        "classifier.fit(X_train, y_train)\n"
      ]
    },
    {
      "cell_type": "code",
      "execution_count": null,
      "metadata": {
        "id": "qipRIJPP1IqA"
      },
      "outputs": [],
      "source": [
        "# Evaluar el clasificador\n",
        "y_pred = classifier.predict(X_test)\n",
        "print(f\"Accuracy: {accuracy_score(y_test, y_pred)}\")"
      ]
    },
    {
      "cell_type": "code",
      "execution_count": null,
      "metadata": {
        "id": "IY64XNWr1IuI"
      },
      "outputs": [],
      "source": [
        "def classify_new_document(text):\n",
        "    tokens = preprocess_text(text)\n",
        "    vector = vectorize_doc(TaggedDocument(tokens, [0]))\n",
        "    return classifier.predict([vector])[0]\n",
        "\n",
        "# Ejemplo de clasificación\n",
        "new_document = \"New breakthrough in cancer research\"\n",
        "predicted_category = classify_new_document(new_document)\n",
        "print(f\"Predicted category: {predicted_category}\")"
      ]
    }
  ],
  "metadata": {
    "colab": {
      "provenance": []
    },
    "kernelspec": {
      "display_name": "Python 3",
      "name": "python3"
    },
    "language_info": {
      "name": "python"
    }
  },
  "nbformat": 4,
  "nbformat_minor": 0
}