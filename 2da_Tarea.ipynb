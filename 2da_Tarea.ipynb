{
  "nbformat": 4,
  "nbformat_minor": 0,
  "metadata": {
    "colab": {
      "provenance": []
    },
    "kernelspec": {
      "name": "python3",
      "display_name": "Python 3"
    },
    "language_info": {
      "name": "python"
    }
  },
  "cells": [
    {
      "cell_type": "code",
      "execution_count": null,
      "metadata": {
        "id": "9tNUvXizTqO6"
      },
      "outputs": [],
      "source": [
        "import requests\n",
        "from bs4 import BeautifulSoup"
      ]
    },
    {
      "cell_type": "code",
      "source": [
        "# URL de la página web que queremos extraer\n",
        "url = 'https://example.com'\n"
      ],
      "metadata": {
        "id": "uKheen4XVWnr"
      },
      "execution_count": null,
      "outputs": []
    },
    {
      "cell_type": "code",
      "source": [
        "# Realizar la solicitud a la página web\n",
        "response = requests.get(url)"
      ],
      "metadata": {
        "id": "Fni1QWoRVVVx"
      },
      "execution_count": null,
      "outputs": []
    },
    {
      "cell_type": "code",
      "source": [
        "# Crear objeto BeautifulSoup\n",
        "soup = BeautifulSoup(response.text, 'html.parser')"
      ],
      "metadata": {
        "id": "6le7GqJWVVYg"
      },
      "execution_count": null,
      "outputs": []
    },
    {
      "cell_type": "code",
      "source": [
        "print(response.text)"
      ],
      "metadata": {
        "colab": {
          "base_uri": "https://localhost:8080/"
        },
        "id": "h1-ob7lEVVbY",
        "outputId": "670541ba-1e9a-43cf-c984-bab4584b7725"
      },
      "execution_count": null,
      "outputs": [
        {
          "output_type": "stream",
          "name": "stdout",
          "text": [
            "<!doctype html>\n",
            "<html>\n",
            "<head>\n",
            "    <title>Example Domain</title>\n",
            "\n",
            "    <meta charset=\"utf-8\" />\n",
            "    <meta http-equiv=\"Content-type\" content=\"text/html; charset=utf-8\" />\n",
            "    <meta name=\"viewport\" content=\"width=device-width, initial-scale=1\" />\n",
            "    <style type=\"text/css\">\n",
            "    body {\n",
            "        background-color: #f0f0f2;\n",
            "        margin: 0;\n",
            "        padding: 0;\n",
            "        font-family: -apple-system, system-ui, BlinkMacSystemFont, \"Segoe UI\", \"Open Sans\", \"Helvetica Neue\", Helvetica, Arial, sans-serif;\n",
            "        \n",
            "    }\n",
            "    div {\n",
            "        width: 600px;\n",
            "        margin: 5em auto;\n",
            "        padding: 2em;\n",
            "        background-color: #fdfdff;\n",
            "        border-radius: 0.5em;\n",
            "        box-shadow: 2px 3px 7px 2px rgba(0,0,0,0.02);\n",
            "    }\n",
            "    a:link, a:visited {\n",
            "        color: #38488f;\n",
            "        text-decoration: none;\n",
            "    }\n",
            "    @media (max-width: 700px) {\n",
            "        div {\n",
            "            margin: 0 auto;\n",
            "            width: auto;\n",
            "        }\n",
            "    }\n",
            "    </style>    \n",
            "</head>\n",
            "\n",
            "<body>\n",
            "<div>\n",
            "    <h1>Example Domain</h1>\n",
            "    <p>This domain is for use in illustrative examples in documents. You may use this\n",
            "    domain in literature without prior coordination or asking for permission.</p>\n",
            "    <p><a href=\"https://www.iana.org/domains/example\">More information...</a></p>\n",
            "</div>\n",
            "</body>\n",
            "</html>\n",
            "\n"
          ]
        }
      ]
    },
    {
      "cell_type": "code",
      "source": [
        "# Extraer datos específicos (por ejemplo, todos los # encabezados h2, h1, head, title, etc.)\n",
        "headings = soup.find_all('h1')\n",
        "i=1\n",
        "for heading in headings:\n",
        "    print(\"Result: \", i)\n",
        "    print(heading.text)\n"
      ],
      "metadata": {
        "colab": {
          "base_uri": "https://localhost:8080/"
        },
        "id": "NFmGDO2KVVd4",
        "outputId": "b2339b59-5c7f-44cd-e313-9ce764f1a2f3"
      },
      "execution_count": null,
      "outputs": [
        {
          "output_type": "stream",
          "name": "stdout",
          "text": [
            "Result:  1\n",
            "Example Domain\n"
          ]
        }
      ]
    },
    {
      "cell_type": "code",
      "source": [
        "import requests\n",
        "\n",
        "# URL de la API de GitHub\n",
        "url = 'https://api.github.com/repos/python/cpython'"
      ],
      "metadata": {
        "id": "AkFHAl8zVVgg"
      },
      "execution_count": null,
      "outputs": []
    },
    {
      "cell_type": "code",
      "source": [
        "# Realizar la solicitud a la API\n",
        "response = requests.get(url)\n",
        "data = response.json()"
      ],
      "metadata": {
        "id": "50csTpiVVVjQ"
      },
      "execution_count": null,
      "outputs": []
    },
    {
      "cell_type": "code",
      "source": [
        "# Mostrar información específica del repositorio\n",
        "print(f\"Repository: {data['name']}\")\n",
        "print(f\"Description: {data['description']}\")\n",
        "print(f\"Stars: {data['stargazers_count']}\")\n",
        "print(f\"Forks: {data['forks_count']}\")"
      ],
      "metadata": {
        "colab": {
          "base_uri": "https://localhost:8080/"
        },
        "id": "wp-z102qWplk",
        "outputId": "67f6561a-d11b-4db0-c94c-1b1f3d817d05"
      },
      "execution_count": null,
      "outputs": [
        {
          "output_type": "stream",
          "name": "stdout",
          "text": [
            "Repository: cpython\n",
            "Description: The Python programming language\n",
            "Stars: 60434\n",
            "Forks: 29214\n"
          ]
        }
      ]
    },
    {
      "cell_type": "code",
      "source": [
        "import pandas as pd\n",
        "import numpy as np"
      ],
      "metadata": {
        "id": "IggYD_tjWpuV"
      },
      "execution_count": null,
      "outputs": []
    },
    {
      "cell_type": "code",
      "source": [
        "# 1. Load the Dataset\n",
        "df = pd.read_csv('cars.csv')"
      ],
      "metadata": {
        "id": "n65yHT7jX7vi"
      },
      "execution_count": null,
      "outputs": []
    },
    {
      "cell_type": "code",
      "source": [
        "# 2. Inspect the Dataset\n",
        "print(df.head())\n",
        "print(df.dtypes)"
      ],
      "metadata": {
        "id": "-8GChI1oX736",
        "colab": {
          "base_uri": "https://localhost:8080/"
        },
        "outputId": "39316278-2ab6-4850-a702-2ffe39d757de"
      },
      "execution_count": null,
      "outputs": [
        {
          "output_type": "stream",
          "name": "stdout",
          "text": [
            "          Unnamed: 0   mpg  cyl   disp     hp  drat     wt   qsec  vs  am  \\\n",
            "0          Mazda RX4  21.0    6  160.0  110.0  3.90  2.620  16.46   0   1   \n",
            "1      Mazda RX4 Wag  21.0    6  160.0    NaN  3.90  2.875  17.02   0   1   \n",
            "2         Datsun 710  22.8    4  108.0   93.0  3.85  2.320  18.61   1   1   \n",
            "3     Hornet 4 Drive  21.4    6  258.0  110.0  3.08  3.215  19.44   1   0   \n",
            "4  Hornet Sportabout  18.7    8  360.0  175.0  3.15  3.440  17.02   0   0   \n",
            "\n",
            "   gear  carb  \n",
            "0     4     4  \n",
            "1     4     4  \n",
            "2     4     1  \n",
            "3     3     1  \n",
            "4     3     2  \n",
            "Unnamed: 0     object\n",
            "mpg           float64\n",
            "cyl             int64\n",
            "disp          float64\n",
            "hp            float64\n",
            "drat          float64\n",
            "wt            float64\n",
            "qsec          float64\n",
            "vs              int64\n",
            "am              int64\n",
            "gear            int64\n",
            "carb            int64\n",
            "dtype: object\n"
          ]
        }
      ]
    },
    {
      "cell_type": "code",
      "source": [
        "# 3. Handle Missing Values\n",
        "df['hp'].fillna(df['hp'].mean(), inplace=True)\n",
        "df.dropna(subset=['hp'], inplace=True)"
      ],
      "metadata": {
        "id": "_8l7SYHTX79e"
      },
      "execution_count": null,
      "outputs": []
    },
    {
      "cell_type": "code",
      "source": [
        "# 4. Filter Data\n",
        "df_filtered = df[df['cyl'] == 6]\n",
        "print(df_filtered)"
      ],
      "metadata": {
        "colab": {
          "base_uri": "https://localhost:8080/"
        },
        "id": "Aubt8bqcY6BZ",
        "outputId": "3b02da4e-f1fb-49b9-c94b-6d2198c0f166"
      },
      "execution_count": null,
      "outputs": [
        {
          "output_type": "stream",
          "name": "stdout",
          "text": [
            "        Unnamed: 0   mpg  cyl   disp          hp  drat     wt   qsec  vs  am  \\\n",
            "0        Mazda RX4  21.0    6  160.0  110.000000  3.90  2.620  16.46   0   1   \n",
            "1    Mazda RX4 Wag  21.0    6  160.0  151.074074  3.90  2.875  17.02   0   1   \n",
            "3   Hornet 4 Drive  21.4    6  258.0  110.000000  3.08  3.215  19.44   1   0   \n",
            "5          Valiant  18.1    6  225.0  105.000000  2.76  3.460  20.22   1   0   \n",
            "9         Merc 280  19.2    6  167.6  123.000000  3.92  3.440  18.30   1   0   \n",
            "10       Merc 280C  17.8    6  167.6  123.000000  3.92  3.440  18.90   1   0   \n",
            "29    Ferrari Dino  19.7    6  145.0  175.000000  3.62  2.770  15.50   0   1   \n",
            "\n",
            "    gear  carb  \n",
            "0      4     4  \n",
            "1      4     4  \n",
            "3      3     1  \n",
            "5      3     1  \n",
            "9      4     4  \n",
            "10     4     4  \n",
            "29     5     6  \n"
          ]
        }
      ]
    },
    {
      "cell_type": "code",
      "source": [
        "# 5. Transform Columns\n",
        "def categorize_hp(hp):\n",
        "    if hp > 150:\n",
        "        return 'High'\n",
        "    elif hp > 80:\n",
        "        return 'Medium'\n",
        "    else:\n",
        "        return 'Low'\n",
        "\n",
        "df_filtered['HP_Category'] = df_filtered['hp'].apply(categorize_hp)"
      ],
      "metadata": {
        "colab": {
          "base_uri": "https://localhost:8080/"
        },
        "id": "lKP9UcskY6G_",
        "outputId": "d856c897-bc3d-4e1d-d3a3-4dcfac810dd3"
      },
      "execution_count": null,
      "outputs": [
        {
          "output_type": "stream",
          "name": "stderr",
          "text": [
            "<ipython-input-18-71491c83a0a1>:10: SettingWithCopyWarning: \n",
            "A value is trying to be set on a copy of a slice from a DataFrame.\n",
            "Try using .loc[row_indexer,col_indexer] = value instead\n",
            "\n",
            "See the caveats in the documentation: https://pandas.pydata.org/pandas-docs/stable/user_guide/indexing.html#returning-a-view-versus-a-copy\n",
            "  df_filtered['HP_Category'] = df_filtered['hp'].apply(categorize_hp)\n"
          ]
        }
      ]
    },
    {
      "cell_type": "code",
      "source": [
        "# 6. Save the Cleaned Dataset\n",
        "df_filtered.to_csv('.\\dataset\\cleaned_cars_dataset.csv', index=False)\n",
        "\n",
        "print(\"Data cleaning and preparation complete. The cleaned dataset is saved as 'cleaned_cars_dataset.csv'.\")"
      ],
      "metadata": {
        "id": "jRJQp1tAY97J",
        "outputId": "ec681456-6a74-4034-8f60-f83f53b1ad31",
        "colab": {
          "base_uri": "https://localhost:8080/"
        }
      },
      "execution_count": null,
      "outputs": [
        {
          "output_type": "stream",
          "name": "stdout",
          "text": [
            "Data cleaning and preparation complete. The cleaned dataset is saved as 'cleaned_cars_dataset.csv'.\n"
          ]
        }
      ]
    },
    {
      "cell_type": "code",
      "source": [],
      "metadata": {
        "id": "xFxFCcaVY-Am"
      },
      "execution_count": null,
      "outputs": []
    },
    {
      "cell_type": "code",
      "source": [],
      "metadata": {
        "id": "71uqNidNY-F5"
      },
      "execution_count": null,
      "outputs": []
    }
  ]
}